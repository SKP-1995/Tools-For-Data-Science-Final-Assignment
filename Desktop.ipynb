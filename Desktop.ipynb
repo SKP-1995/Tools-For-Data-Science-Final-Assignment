{
 "cells": [
  {
   "cell_type": "markdown",
   "id": "a986b1bd",
   "metadata": {},
   "source": [
    "Tools For Data Science : Peer Graded Assignment"
   ]
  },
  {
   "cell_type": "markdown",
   "id": "3c296f2f",
   "metadata": {},
   "source": [
    "This exercise is a part of Data Science Course to test your knowledge about the Jupyter Notebooks"
   ]
  },
  {
   "cell_type": "markdown",
   "id": "66e99c04",
   "metadata": {},
   "source": [
    "l_ds_lang=['R','Scala','Python','Julia']\n"
   ]
  },
  {
   "cell_type": "markdown",
   "id": "97e90071",
   "metadata": {},
   "source": [
    "l_ds_lib=['ggplot','caret','pandas','numpy','seaborn','tensorflow','Vegas']"
   ]
  },
  {
   "cell_type": "markdown",
   "id": "3ddbfe1f",
   "metadata": {},
   "source": [
    "l_ds_tools=['matplotlib','KNIME','Tableau','Apache Spark','MongoDB']"
   ]
  },
  {
   "cell_type": "markdown",
   "id": "bbabd0c2",
   "metadata": {},
   "source": [
    "The below 2 cells will deal with arithmatic expression examples. "
   ]
  },
  {
   "cell_type": "code",
   "execution_count": 12,
   "id": "eb68581c",
   "metadata": {},
   "outputs": [
    {
     "name": "stdout",
     "output_type": "stream",
     "text": [
      "5\n",
      "6\n"
     ]
    },
    {
     "data": {
      "text/plain": [
       "41"
      ]
     },
     "execution_count": 12,
     "metadata": {},
     "output_type": "execute_result"
    }
   ],
   "source": [
    "a=int(input())\n",
    "b=int(input())\n",
    "c=(a*b)+(a+b)\n",
    "c"
   ]
  },
  {
   "cell_type": "code",
   "execution_count": 10,
   "id": "3c66862a",
   "metadata": {},
   "outputs": [
    {
     "name": "stdout",
     "output_type": "stream",
     "text": [
      "3600\n"
     ]
    },
    {
     "data": {
      "text/plain": [
       "60.0"
      ]
     },
     "execution_count": 10,
     "metadata": {},
     "output_type": "execute_result"
    }
   ],
   "source": [
    "mint=int(input())\n",
    "hrs=(mint/60)\n",
    "hrs"
   ]
  },
  {
   "cell_type": "markdown",
   "id": "2272c95e",
   "metadata": {},
   "source": [
    "The objectives of the Exercise was to test your proficiency in the Jupyter Notebooks and to provide a base for the new underlying tasks in the incoming courses. "
   ]
  },
  {
   "cell_type": "markdown",
   "id": "241c00ed",
   "metadata": {},
   "source": [
    "Author's Name :- Sujit Kumar Pradhan "
   ]
  }
 ],
 "metadata": {
  "kernelspec": {
   "display_name": "Python 3 (ipykernel)",
   "language": "python",
   "name": "python3"
  },
  "language_info": {
   "codemirror_mode": {
    "name": "ipython",
    "version": 3
   },
   "file_extension": ".py",
   "mimetype": "text/x-python",
   "name": "python",
   "nbconvert_exporter": "python",
   "pygments_lexer": "ipython3",
   "version": "3.10.9"
  }
 },
 "nbformat": 4,
 "nbformat_minor": 5
}
